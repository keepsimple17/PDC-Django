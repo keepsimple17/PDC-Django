{
 "cells": [
  {
   "cell_type": "code",
   "execution_count": 27,
   "metadata": {},
   "outputs": [],
   "source": [
    "candidato = {\n",
    "    'candidato': \"João Amoedo\",\n",
    "    'candidato_UF': 'BR',\n",
    "    'candidato_city': 'Rio de Janeiro',\n",
    "    'candidato_intended_position': \"Presidente\",\n",
    "    'ballot': \"Eleições 2018\",\n",
    "    'tags': [\n",
    "        {'tag':'Partido Novo', 'size':10},\n",
    "        {'tag':'Impostos', 'size':7},\n",
    "        {'tag':'Renovação', 'size':5},\n",
    "        {'tag':'Eleições', 'size':1},\n",
    "        {'tag':'Fundo Partidário', 'size':4},\n",
    "        {'tag':'Lava-Jato', 'size':3},\n",
    "    ]\n",
    "    \n",
    "}"
   ]
  },
  {
   "cell_type": "code",
   "execution_count": 12,
   "metadata": {},
   "outputs": [
    {
     "data": {
      "text/plain": [
       "'Rio de Janeiro'"
      ]
     },
     "execution_count": 12,
     "metadata": {},
     "output_type": "execute_result"
    }
   ],
   "source": [
    "candidato[\"candidato_city\"]"
   ]
  },
  {
   "cell_type": "code",
   "execution_count": 53,
   "metadata": {},
   "outputs": [
    {
     "name": "stdout",
     "output_type": "stream",
     "text": [
      "7\n"
     ]
    }
   ],
   "source": [
    "print(candidato[\"tags\"][1][\"size\"])\n"
   ]
  },
  {
   "cell_type": "code",
   "execution_count": null,
   "metadata": {
    "collapsed": true
   },
   "outputs": [],
   "source": [
    "print(candidato)"
   ]
  },
  {
   "cell_type": "code",
   "execution_count": 50,
   "metadata": {},
   "outputs": [
    {
     "name": "stdout",
     "output_type": "stream",
     "text": [
      "- \n",
      "- \n",
      "- \n",
      "- \n",
      "- \n",
      "- \n"
     ]
    }
   ],
   "source": [
    "for t in candidato[\"tags\"]:\n",
    "  print('- ')\n"
   ]
  }
 ],
 "metadata": {
  "kernelspec": {
   "display_name": "Python 3",
   "language": "python",
   "name": "python3"
  },
  "language_info": {
   "codemirror_mode": {
    "name": "ipython",
    "version": 3
   },
   "file_extension": ".py",
   "mimetype": "text/x-python",
   "name": "python",
   "nbconvert_exporter": "python",
   "pygments_lexer": "ipython3",
   "version": "3.6.1"
  }
 },
 "nbformat": 4,
 "nbformat_minor": 2
}
